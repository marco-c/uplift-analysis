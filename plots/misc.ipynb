{
 "cells": [
  {
   "cell_type": "code",
   "execution_count": 1,
   "metadata": {
    "collapsed": true
   },
   "outputs": [],
   "source": [
    "%matplotlib inline\n",
    "\n",
    "import matplotlib.pyplot as plt\n",
    "import matplotlib.ticker as mtick\n",
    "import pandas as pd"
   ]
  },
  {
   "cell_type": "code",
   "execution_count": 2,
   "metadata": {
    "collapsed": true
   },
   "outputs": [],
   "source": [
    "df_basic_release = pd.read_csv('../independent_metrics/basic_release.csv', index_col='bug_id')\n",
    "df_basic_beta = pd.read_csv('../independent_metrics/basic_beta.csv', index_col='bug_id')\n",
    "df_basic_aurora = pd.read_csv('../independent_metrics/basic_aurora.csv', index_col='bug_id')\n",
    "\n",
    "df_bug_inducing = pd.read_csv('../independent_metrics/bug_inducing.csv', index_col='bug_id')\n",
    "\n",
    "df_release = pd.merge(df_basic_release, df_bug_inducing, left_index=True, right_index=True)\n",
    "df_beta = pd.merge(df_basic_beta, df_bug_inducing, left_index=True, right_index=True)\n",
    "df_aurora = pd.merge(df_basic_aurora, df_bug_inducing, left_index=True, right_index=True)"
   ]
  },
  {
   "cell_type": "code",
   "execution_count": 3,
   "metadata": {
    "collapsed": true
   },
   "outputs": [],
   "source": [
    "df_release = df_release[df_release.component != 'Pocket']\n",
    "df_beta = df_beta[df_beta.component != 'Pocket']\n",
    "df_aurora = df_aurora[df_aurora.component != 'Pocket']"
   ]
  },
  {
   "cell_type": "code",
   "execution_count": 4,
   "metadata": {
    "collapsed": false
   },
   "outputs": [
    {
     "data": {
      "text/plain": [
       "(285, 33)"
      ]
     },
     "execution_count": 4,
     "metadata": {},
     "output_type": "execute_result"
    }
   ],
   "source": [
    "df_release.shape"
   ]
  },
  {
   "cell_type": "code",
   "execution_count": 5,
   "metadata": {
    "collapsed": false
   },
   "outputs": [
    {
     "data": {
      "text/plain": [
       "(2614, 33)"
      ]
     },
     "execution_count": 5,
     "metadata": {},
     "output_type": "execute_result"
    }
   ],
   "source": [
    "df_beta.shape"
   ]
  },
  {
   "cell_type": "code",
   "execution_count": 6,
   "metadata": {
    "collapsed": false
   },
   "outputs": [
    {
     "data": {
      "text/plain": [
       "(4368, 33)"
      ]
     },
     "execution_count": 6,
     "metadata": {},
     "output_type": "execute_result"
    }
   ],
   "source": [
    "df_aurora.shape"
   ]
  },
  {
   "cell_type": "code",
   "execution_count": 7,
   "metadata": {
    "collapsed": true
   },
   "outputs": [],
   "source": [
    "df_release.component = df_release.component.apply(lambda x: x.split(':')[0])\n",
    "df_beta.component = df_beta.component.apply(lambda x: x.split(':')[0])\n",
    "df_aurora.component = df_aurora.component.apply(lambda x: x.split(':')[0])"
   ]
  },
  {
   "cell_type": "code",
   "execution_count": 8,
   "metadata": {
    "collapsed": false
   },
   "outputs": [
    {
     "data": {
      "image/png": "[encoded data removed]",
      "text/plain": [
       "<matplotlib.figure.Figure at 0x7f278a844950>"
      ]
     },
     "metadata": {},
     "output_type": "display_data"
    }
   ],
   "source": [
    "fig = plt.figure()\n",
    "pd.Series([len(df_release), len(df_beta), len(df_aurora)]).plot.bar(color=['r', 'g', 'b'])\n",
    "fig.savefig('uplifts_per_channels.svg', format='svg')"
   ]
  },
  {
   "cell_type": "code",
   "execution_count": null,
   "metadata": {
    "collapsed": true
   },
   "outputs": [],
   "source": []
  }
 ],
 "metadata": {
  "kernelspec": {
   "display_name": "Python 2",
   "language": "python",
   "name": "python2"
  },
  "language_info": {
   "codemirror_mode": {
    "name": "ipython",
    "version": 2
   },
   "file_extension": ".py",
   "mimetype": "text/x-python",
   "name": "python",
   "nbconvert_exporter": "python",
   "pygments_lexer": "ipython2",
   "version": "2.7.12+"
  }
 },
 "nbformat": 4,
 "nbformat_minor": 0
}
