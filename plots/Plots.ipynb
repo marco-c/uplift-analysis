{
 "cells": [
  {
   "cell_type": "code",
   "execution_count": 1,
   "metadata": {
    "collapsed": true
   },
   "outputs": [],
   "source": [
    "%matplotlib inline\n",
    "\n",
    "import matplotlib.pyplot as plt\n",
    "import matplotlib.ticker as mtick\n",
    "import pandas as pd\n",
    "import numpy as np\n",
    "\n",
    "plt.style.use('ggplot')\n",
    "plt.rcParams['axes.facecolor'] = 'white'\n",
    "plt.rcParams['axes.edgecolor'] = 'grey'\n",
    "plt.rcParams['grid.color'] = 'lightgrey'\n",
    "plt.rcParams['font.size'] = 18"
   ]
  },
  {
   "cell_type": "code",
   "execution_count": 2,
   "metadata": {
    "collapsed": false
   },
   "outputs": [],
   "source": [
    "df_basic_release = pd.read_csv('../independent_metrics/basic_release.csv', index_col='bug_id')\n",
    "df_basic_beta = pd.read_csv('../independent_metrics/basic_beta.csv', index_col='bug_id')\n",
    "df_basic_aurora = pd.read_csv('../independent_metrics/basic_aurora.csv', index_col='bug_id')\n",
    "\n",
    "df_bug_inducing = pd.read_csv('../independent_metrics/bug_inducing.csv', index_col='bug_id')\n",
    "\n",
    "df_release = pd.merge(df_basic_release, df_bug_inducing, left_index=True, right_index=True)\n",
    "df_beta = pd.merge(df_basic_beta, df_bug_inducing, left_index=True, right_index=True)\n",
    "df_aurora = pd.merge(df_basic_aurora, df_bug_inducing, left_index=True, right_index=True)"
   ]
  },
  {
   "cell_type": "code",
   "execution_count": 3,
   "metadata": {
    "collapsed": true
   },
   "outputs": [],
   "source": [
    "df_release = df_release[df_release.component != 'Pocket']\n",
    "df_beta = df_beta[df_beta.component != 'Pocket']\n",
    "df_aurora = df_aurora[df_aurora.component != 'Pocket']"
   ]
  },
  {
   "cell_type": "code",
   "execution_count": 4,
   "metadata": {
    "collapsed": false
   },
   "outputs": [],
   "source": [
    "all_names = pd.concat([pd.DataFrame(df_release.bug_assignee.ravel()), pd.DataFrame(df_beta.bug_assignee.ravel()), pd.DataFrame(df_aurora.bug_assignee.ravel())])\n",
    "names = pd.unique(all_names[0])\n",
    "names = pd.Series(np.arange(len(names)), names)\n",
    "\n",
    "df_release.bug_assignee = df_release.bug_assignee.map(names.get)\n",
    "df_beta.bug_assignee = df_beta.bug_assignee.map(names.get)\n",
    "df_aurora.bug_assignee = df_aurora.bug_assignee.map(names.get)"
   ]
  },
  {
   "cell_type": "code",
   "execution_count": 5,
   "metadata": {
    "collapsed": false
   },
   "outputs": [
    {
     "data": {
      "text/plain": [
       "(285, 33)"
      ]
     },
     "execution_count": 5,
     "metadata": {},
     "output_type": "execute_result"
    }
   ],
   "source": [
    "df_release.shape"
   ]
  },
  {
   "cell_type": "code",
   "execution_count": 6,
   "metadata": {
    "collapsed": false
   },
   "outputs": [
    {
     "data": {
      "text/plain": [
       "(2614, 33)"
      ]
     },
     "execution_count": 6,
     "metadata": {},
     "output_type": "execute_result"
    }
   ],
   "source": [
    "df_beta.shape"
   ]
  },
  {
   "cell_type": "code",
   "execution_count": 7,
   "metadata": {
    "collapsed": false
   },
   "outputs": [
    {
     "data": {
      "text/plain": [
       "(4368, 33)"
      ]
     },
     "execution_count": 7,
     "metadata": {},
     "output_type": "execute_result"
    }
   ],
   "source": [
    "df_aurora.shape"
   ]
  },
  {
   "cell_type": "code",
   "execution_count": 8,
   "metadata": {
    "collapsed": false
   },
   "outputs": [],
   "source": [
    "df_release.component = df_release.component.apply(lambda x: x.split(':')[0])\n",
    "df_beta.component = df_beta.component.apply(lambda x: x.split(':')[0])\n",
    "df_aurora.component = df_aurora.component.apply(lambda x: x.split(':')[0])"
   ]
  },
  {
   "cell_type": "code",
   "execution_count": 9,
   "metadata": {
    "collapsed": false
   },
   "outputs": [
    {
     "data": {
      "image/png": "[encoded data removed]",
      "text/plain": [
       "<matplotlib.figure.Figure at 0x7f5028a0b210>"
      ]
     },
     "metadata": {},
     "output_type": "display_data"
    }
   ],
   "source": [
    "fig = plt.figure()\n",
    "pd.Series({'Release': len(df_release), 'Beta': len(df_beta), 'Aurora': len(df_aurora)}).plot.bar(grid=True, color=['r', 'g', 'b'])\n",
    "plt.xticks(rotation=0)\n",
    "fig.savefig('uplifts_per_channel.pdf', format='pdf', bbox_inches='tight')"
   ]
  },
  {
   "cell_type": "markdown",
   "metadata": {},
   "source": [
    "# Approved vs Rejected"
   ]
  },
  {
   "cell_type": "code",
   "execution_count": null,
   "metadata": {
    "collapsed": false
   },
   "outputs": [],
   "source": [
    "fig = plt.figure(figsize=(16,16))\n",
    "ax = fig.add_subplot(111)\n",
    "ax.yaxis.set_major_formatter(mtick.FuncFormatter(lambda y, _: '{:.0%}'.format(y)))\n",
    "pd.concat([df_release['uplift_accepted'].value_counts(normalize=True).rename('Release'), df_beta['uplift_accepted'].value_counts(normalize=True).rename('Beta'), df_aurora['uplift_accepted'].value_counts(normalize=True).rename('Aurora')], axis=1)\\\n",
    ".plot(kind='bar', ax=ax)\n",
    "plt.xticks(rotation=0)\n",
    "plt.show()\n",
    "fig.savefig('accepted_channels.pdf', format='pdf', bbox_inches='tight')"
   ]
  },
  {
   "cell_type": "code",
   "execution_count": null,
   "metadata": {
    "collapsed": false
   },
   "outputs": [],
   "source": [
    "fig = plt.figure(figsize=(30,30))\n",
    "ax1 = fig.add_subplot(221)\n",
    "ax1.yaxis.set_major_formatter(mtick.FuncFormatter(lambda y, _: '{:.0%}'.format(y)))\n",
    "ax2 = fig.add_subplot(222)\n",
    "ax2.yaxis.set_major_formatter(mtick.FuncFormatter(lambda y, _: '{:.0%}'.format(y)))\n",
    "ax3 = fig.add_subplot(223)\n",
    "ax4 = fig.add_subplot(224)\n",
    "\n",
    "res1 = df_release[df_release['uplift_accepted'] == True].component.value_counts()\n",
    "res1.name = 'release'\n",
    "res2 = df_beta[df_beta['uplift_accepted'] == True].component.value_counts()\n",
    "res2.name = 'beta'\n",
    "res3 = df_aurora[df_aurora['uplift_accepted'] == True].component.value_counts()\n",
    "res3.name = 'aurora'\n",
    "\n",
    "res = pd.concat([res1, res2, res3], axis=1)\n",
    "\n",
    "res['release_requests'] = df_release.component.value_counts()\n",
    "res['beta_requests'] = df_beta.component.value_counts()\n",
    "res['aurora_requests'] = df_aurora.component.value_counts()\n",
    "res['release_rate'] = res['release'] / res['release_requests']\n",
    "res['beta_rate'] = res['beta'] / res['beta_requests']\n",
    "res['aurora_rate'] = res['aurora'] / res['aurora_requests']\n",
    "\n",
    "res = res[(res.release_requests > 1) & (res.beta_requests > 10) & (res.aurora_requests > 20)]\n",
    "\n",
    "res['rate_sort_val'] = res.apply(lambda x: np.nanmean([x['release_rate'], x['beta_rate'], x['aurora_rate']]), axis=1)\n",
    "res['total_sort_val'] = res.apply(lambda x: np.nanmean([10 * x['release'], 2 * x['beta'], x['aurora']]), axis=1)\n",
    "\n",
    "res\\\n",
    ".sort_values(['rate_sort_val', 'release_requests', 'beta_requests', 'aurora_requests'], ascending=False)[['release_rate', 'beta_rate', 'aurora_rate']]\\\n",
    ".rename(index=str, columns={'release_rate': 'Release', 'beta_rate': 'Beta', 'aurora_rate': 'Aurora'})\\\n",
    ".iloc[range(0,10)].plot(kind='bar', ax=ax1)\n",
    "\n",
    "res\\\n",
    ".sort_values(['rate_sort_val', 'release_requests', 'beta_requests', 'aurora_requests'], ascending=[True, False, False, False])[['release_rate', 'beta_rate', 'aurora_rate']]\\\n",
    ".rename(index=str, columns={'release_rate': 'Release', 'beta_rate': 'Beta', 'aurora_rate': 'Aurora'})\\\n",
    ".iloc[range(0,10)].plot(kind='bar', ax=ax2)\n",
    "\n",
    "res\\\n",
    ".sort_values(['total_sort_val', 'release', 'beta', 'aurora'], ascending=False)[['release', 'beta', 'aurora']]\\\n",
    ".rename(index=str, columns={'release': 'Release', 'beta': 'Beta', 'aurora': 'Aurora'})\\\n",
    ".iloc[range(0,10)].plot(kind='bar', ax=ax3)\n",
    "\n",
    "res\\\n",
    ".sort_values(['total_sort_val', 'release', 'beta', 'aurora'], ascending=[True, False, False, False])[['release', 'beta', 'aurora']]\\\n",
    ".rename(index=str, columns={'release': 'Release', 'beta': 'Beta', 'aurora': 'Aurora'})\\\n",
    ".iloc[range(0,10)].plot(kind='bar', ax=ax4)\n",
    "\n",
    "plt.show()\n",
    "fig.savefig('per_component.pdf', format='pdf', bbox_inches='tight')"
   ]
  },
  {
   "cell_type": "code",
   "execution_count": null,
   "metadata": {
    "collapsed": false
   },
   "outputs": [],
   "source": [
    "fig = plt.figure(figsize=(30,30))\n",
    "ax1 = fig.add_subplot(221)\n",
    "ax1.yaxis.set_major_formatter(mtick.FuncFormatter(lambda y, _: '{:.0%}'.format(y)))\n",
    "ax2 = fig.add_subplot(222)\n",
    "ax2.yaxis.set_major_formatter(mtick.FuncFormatter(lambda y, _: '{:.0%}'.format(y)))\n",
    "ax3 = fig.add_subplot(223)\n",
    "ax4 = fig.add_subplot(224)\n",
    "\n",
    "res1 = df_release[df_release['uplift_accepted'] == True].bug_assignee.value_counts()\n",
    "res1.name = 'release'\n",
    "res2 = df_beta[df_beta['uplift_accepted'] == True].bug_assignee.value_counts()\n",
    "res2.name = 'beta'\n",
    "res3 = df_aurora[df_aurora['uplift_accepted'] == True].bug_assignee.value_counts()\n",
    "res3.name = 'aurora'\n",
    "\n",
    "res = pd.concat([res1, res2, res3], axis=1)\n",
    "\n",
    "res['release_requests'] = df_release.bug_assignee.value_counts()\n",
    "res['beta_requests'] = df_beta.bug_assignee.value_counts()\n",
    "res['aurora_requests'] = df_aurora.bug_assignee.value_counts()\n",
    "res['release_rate'] = res['release'] / res['release_requests']\n",
    "res['beta_rate'] = res['beta'] / res['beta_requests']\n",
    "res['aurora_rate'] = res['aurora'] / res['aurora_requests']\n",
    "\n",
    "res = res[(res.release_requests > 1) & (res.beta_requests > 10) & (res.aurora_requests > 20)]\n",
    "\n",
    "res['rate_sort_val'] = res.apply(lambda x: np.nanmean([x['release_rate'], x['beta_rate'], x['aurora_rate']]), axis=1)\n",
    "res['total_sort_val'] = res.apply(lambda x: np.nanmean([10 * x['release'], 2 * x['beta'], x['aurora']]), axis=1)\n",
    "\n",
    "res\\\n",
    ".sort_values(['rate_sort_val', 'release_requests', 'beta_requests', 'aurora_requests'], ascending=False)[['release_rate', 'beta_rate', 'aurora_rate']]\\\n",
    ".rename(index=str, columns={'release_rate': 'Release', 'beta_rate': 'Beta', 'aurora_rate': 'Aurora'})\\\n",
    ".iloc[range(0,10)].plot(kind='bar', ax=ax1)\n",
    "\n",
    "res\\\n",
    ".sort_values(['rate_sort_val', 'release_requests', 'beta_requests', 'aurora_requests'], ascending=[True, False, False, False])[['release_rate', 'beta_rate', 'aurora_rate']]\\\n",
    ".rename(index=str, columns={'release_rate': 'Release', 'beta_rate': 'Beta', 'aurora_rate': 'Aurora'})\\\n",
    ".iloc[range(0,10)].plot(kind='bar', ax=ax2)\n",
    "\n",
    "res\\\n",
    ".sort_values(['total_sort_val', 'release', 'beta', 'aurora'], ascending=False)[['release', 'beta', 'aurora']]\\\n",
    ".rename(index=str, columns={'release': 'Release', 'beta': 'Beta', 'aurora': 'Aurora'})\\\n",
    ".iloc[range(0,10)].plot(kind='bar', ax=ax3)\n",
    "\n",
    "res\\\n",
    ".sort_values(['total_sort_val', 'release', 'beta', 'aurora'], ascending=[True, False, False, False])[['release', 'beta', 'aurora']]\\\n",
    ".rename(index=str, columns={'release': 'Release', 'beta': 'Beta', 'aurora': 'Aurora'})\\\n",
    ".iloc[range(0,10)].plot(kind='bar', ax=ax4)\n",
    "\n",
    "plt.show()\n",
    "fig.savefig('per_assignee.pdf', format='pdf', bbox_inches='tight')"
   ]
  },
  {
   "cell_type": "code",
   "execution_count": null,
   "metadata": {
    "collapsed": false
   },
   "outputs": [],
   "source": [
    "types_approved_release = df_release[df_release['uplift_accepted'] == True].types.str.split('^').apply(pd.Series, 1).stack()\n",
    "types_approved_release.index = types_approved_release.index.droplevel(-1)\n",
    "types_approved_release.name = 'Release'\n",
    "types_approved_beta = df_beta[df_beta['uplift_accepted'] == True].types.str.split('^').apply(pd.Series, 1).stack()\n",
    "types_approved_beta.index = types_approved_beta.index.droplevel(-1)\n",
    "types_approved_beta.name = 'Beta'\n",
    "types_approved_aurora = df_aurora[df_aurora['uplift_accepted'] == True].types.str.split('^').apply(pd.Series, 1).stack()\n",
    "types_approved_aurora.index = types_approved_aurora.index.droplevel(-1)\n",
    "types_approved_aurora.name = 'Aurora'\n",
    "\n",
    "fig = plt.figure(figsize=(16,16))\n",
    "ax = fig.add_subplot(111)\n",
    "ax.yaxis.set_major_formatter(mtick.FuncFormatter(lambda y, _: '{:.0%}'.format(y)))\n",
    "pd.concat([types_approved_release.value_counts(normalize=True), types_approved_beta.value_counts(normalize=True), types_approved_aurora.value_counts(normalize=True)], axis=1)\\\n",
    ".plot(kind='bar', ax=ax)\n",
    "plt.xticks(rotation=0)\n",
    "plt.show()\n",
    "fig.savefig('accepted_uplifts_per_type_and_channel.pdf', format='pdf')"
   ]
  },
  {
   "cell_type": "code",
   "execution_count": null,
   "metadata": {
    "collapsed": false
   },
   "outputs": [],
   "source": [
    "languages_approved_release = df_release[df_release['uplift_accepted'] == True].languages.str.split('^').apply(pd.Series, 1).stack()\n",
    "languages_approved_release.index = languages_approved_release.index.droplevel(-1)\n",
    "languages_approved_release.name = 'Release'\n",
    "languages_approved_beta = df_beta[df_beta['uplift_accepted'] == True].languages.str.split('^').apply(pd.Series, 1).stack()\n",
    "languages_approved_beta.index = languages_approved_beta.index.droplevel(-1)\n",
    "languages_approved_beta.name = 'Beta'\n",
    "languages_approved_aurora = df_aurora[df_aurora['uplift_accepted'] == True].languages.str.split('^').apply(pd.Series, 1).stack()\n",
    "languages_approved_aurora.index = languages_approved_aurora.index.droplevel(-1)\n",
    "languages_approved_aurora.name = 'Aurora'\n",
    "\n",
    "fig = plt.figure(figsize=(16,16))\n",
    "ax = fig.add_subplot(111)\n",
    "ax.yaxis.set_major_formatter(mtick.FuncFormatter(lambda y, _: '{:.0%}'.format(y)))\n",
    "pd.concat([languages_approved_release.value_counts(normalize=True), languages_approved_beta.value_counts(normalize=True), languages_approved_aurora.value_counts(normalize=True)], axis=1)\\\n",
    ".plot(kind='bar', ax=ax)\n",
    "plt.xticks(rotation=45)\n",
    "plt.show()"
   ]
  },
  {
   "cell_type": "markdown",
   "metadata": {},
   "source": [
    "## Release uplifts"
   ]
  },
  {
   "cell_type": "markdown",
   "metadata": {},
   "source": [
    "### Approved vs rejected uplifts per component"
   ]
  },
  {
   "cell_type": "code",
   "execution_count": null,
   "metadata": {
    "collapsed": false
   },
   "outputs": [],
   "source": [
    "fig = plt.figure(figsize=(16,16))\n",
    "ax = fig.add_subplot(111)\n",
    "ax.yaxis.set_major_formatter(mtick.FuncFormatter(lambda y, _: '{:.0%}'.format(y)))\n",
    "res = df_release[df_release['uplift_accepted'] == True].component.value_counts() / df_release.component.value_counts()\n",
    "res.dropna().sort_values(ascending=False).plot(kind='bar', ax=ax)\n",
    "plt.show()"
   ]
  },
  {
   "cell_type": "markdown",
   "metadata": {},
   "source": [
    "### Approved vs rejected uplifts per bug assignee"
   ]
  },
  {
   "cell_type": "code",
   "execution_count": null,
   "metadata": {
    "collapsed": false
   },
   "outputs": [],
   "source": [
    "fig = plt.figure(figsize=(16,16))\n",
    "ax = fig.add_subplot(111)\n",
    "ax.yaxis.set_major_formatter(mtick.FuncFormatter(lambda y, _: '{:.0%}'.format(y)))\n",
    "res = df_release[df_release['uplift_accepted'] == True].bug_assignee.value_counts().where(lambda x: x > 2) / df_release.bug_assignee.value_counts()\n",
    "res.dropna().sort_values(ascending=False).plot(kind='bar', ax=ax)\n",
    "plt.show()"
   ]
  },
  {
   "cell_type": "markdown",
   "metadata": {},
   "source": [
    "### Approved vs rejected uplifts per bug type"
   ]
  },
  {
   "cell_type": "code",
   "execution_count": null,
   "metadata": {
    "collapsed": false
   },
   "outputs": [],
   "source": [
    "types = df_release.types.str.split('^').apply(pd.Series, 1).stack()\n",
    "types.index = types.index.droplevel(-1)\n",
    "types.name = 'Type'\n",
    "types_approved = df_release[df_release['uplift_accepted'] == True].types.str.split('^').apply(pd.Series, 1).stack()\n",
    "types_approved.index = types_approved.index.droplevel(-1)\n",
    "types_approved.name = 'Type'\n",
    "\n",
    "fig = plt.figure(figsize=(16,16))\n",
    "ax = fig.add_subplot(111)\n",
    "res = types_approved.value_counts() / types.value_counts()\n",
    "res.sort_values(ascending=False).plot(kind='bar')\n",
    "plt.show()"
   ]
  },
  {
   "cell_type": "markdown",
   "metadata": {},
   "source": [
    "## Beta uplifts"
   ]
  },
  {
   "cell_type": "markdown",
   "metadata": {},
   "source": [
    "### Approved vs rejected uplifts per component"
   ]
  },
  {
   "cell_type": "code",
   "execution_count": null,
   "metadata": {
    "collapsed": false
   },
   "outputs": [],
   "source": [
    "fig = plt.figure(figsize=(16,16))\n",
    "ax = fig.add_subplot(111)\n",
    "ax.yaxis.set_major_formatter(mtick.FuncFormatter(lambda y, _: '{:.0%}'.format(y)))\n",
    "res = df_beta[df_beta['uplift_accepted'] == True].component.value_counts() / df_beta.component.value_counts()\n",
    "res.dropna().sort_values(ascending=False).plot(kind='bar', ax=ax)\n",
    "plt.show()"
   ]
  },
  {
   "cell_type": "markdown",
   "metadata": {},
   "source": [
    "### Approved vs rejected uplifts per bug assignee"
   ]
  },
  {
   "cell_type": "code",
   "execution_count": null,
   "metadata": {
    "collapsed": false
   },
   "outputs": [],
   "source": [
    "fig = plt.figure(figsize=(16,16))\n",
    "ax = fig.add_subplot(111)\n",
    "ax.yaxis.set_major_formatter(mtick.FuncFormatter(lambda y, _: '{:.0%}'.format(y)))\n",
    "res = df_beta[df_beta['uplift_accepted'] == True].bug_assignee.value_counts().where(lambda x: x > 10) / df_beta.bug_assignee.value_counts()\n",
    "res.dropna().sort_values(ascending=False).plot(kind='bar', ax=ax)\n",
    "plt.show()"
   ]
  },
  {
   "cell_type": "markdown",
   "metadata": {},
   "source": [
    "### Approved vs rejected uplifts per bug type"
   ]
  },
  {
   "cell_type": "code",
   "execution_count": null,
   "metadata": {
    "collapsed": false
   },
   "outputs": [],
   "source": [
    "types = df_beta.types.str.split('^').apply(pd.Series, 1).stack()\n",
    "types.index = types.index.droplevel(-1)\n",
    "types.name = 'Type'\n",
    "types_approved = df_beta[df_beta['uplift_accepted'] == True].types.str.split('^').apply(pd.Series, 1).stack()\n",
    "types_approved.index = types_approved.index.droplevel(-1)\n",
    "types_approved.name = 'Type'\n",
    "\n",
    "fig = plt.figure(figsize=(16,16))\n",
    "ax = fig.add_subplot(111)\n",
    "res = types_approved.value_counts() / types.value_counts()\n",
    "res.sort_values(ascending=False).plot(kind='bar')\n",
    "plt.show()"
   ]
  },
  {
   "cell_type": "markdown",
   "metadata": {},
   "source": [
    "## Aurora uplifts"
   ]
  },
  {
   "cell_type": "markdown",
   "metadata": {},
   "source": [
    "### Approved vs rejected uplifts per component"
   ]
  },
  {
   "cell_type": "code",
   "execution_count": null,
   "metadata": {
    "collapsed": false
   },
   "outputs": [],
   "source": [
    "fig = plt.figure(figsize=(16,16))\n",
    "ax = fig.add_subplot(111)\n",
    "ax.yaxis.set_major_formatter(mtick.FuncFormatter(lambda y, _: '{:.0%}'.format(y)))\n",
    "res = df_aurora[df_aurora['uplift_accepted'] == True].component.value_counts() / df_aurora.component.value_counts()\n",
    "res.dropna().sort_values(ascending=False).plot(kind='bar', ax=ax)\n",
    "plt.show()"
   ]
  },
  {
   "cell_type": "markdown",
   "metadata": {},
   "source": [
    "### Approved vs rejected uplifts per bug assignee"
   ]
  },
  {
   "cell_type": "code",
   "execution_count": null,
   "metadata": {
    "collapsed": false
   },
   "outputs": [],
   "source": [
    "fig = plt.figure(figsize=(16,16))\n",
    "ax = fig.add_subplot(111)\n",
    "ax.yaxis.set_major_formatter(mtick.FuncFormatter(lambda y, _: '{:.0%}'.format(y)))\n",
    "res = df_aurora[df_aurora['uplift_accepted'] == True].bug_assignee.value_counts().where(lambda x: x > 20) / df_aurora.bug_assignee.value_counts()\n",
    "res.dropna().sort_values(ascending=False).plot(kind='bar', ax=ax)\n",
    "plt.show()"
   ]
  },
  {
   "cell_type": "markdown",
   "metadata": {},
   "source": [
    "### Approved vs rejected uplifts per bug type"
   ]
  },
  {
   "cell_type": "code",
   "execution_count": null,
   "metadata": {
    "collapsed": false
   },
   "outputs": [],
   "source": [
    "types = df_aurora.types.str.split('^').apply(pd.Series, 1).stack()\n",
    "types.index = types.index.droplevel(-1)\n",
    "types.name = 'Type'\n",
    "types_approved = df_aurora[df_aurora['uplift_accepted'] == True].types.str.split('^').apply(pd.Series, 1).stack()\n",
    "types_approved.index = types_approved.index.droplevel(-1)\n",
    "types_approved.name = 'Type'\n",
    "\n",
    "fig = plt.figure(figsize=(16,16))\n",
    "ax = fig.add_subplot(111)\n",
    "res = types_approved.value_counts() / types.value_counts()\n",
    "res.sort_values(ascending=False).plot(kind='bar')\n",
    "plt.show()"
   ]
  },
  {
   "cell_type": "markdown",
   "metadata": {},
   "source": [
    "# Bug-inducing vs non bug-inducing"
   ]
  },
  {
   "cell_type": "code",
   "execution_count": null,
   "metadata": {
    "collapsed": true
   },
   "outputs": [],
   "source": []
  }
 ],
 "metadata": {
  "kernelspec": {
   "display_name": "Python 2",
   "language": "python",
   "name": "python2"
  },
  "language_info": {
   "codemirror_mode": {
    "name": "ipython",
    "version": 2
   },
   "file_extension": ".py",
   "mimetype": "text/x-python",
   "name": "python",
   "nbconvert_exporter": "python",
   "pygments_lexer": "ipython2",
   "version": "2.7.12+"
  }
 },
 "nbformat": 4,
 "nbformat_minor": 0
}
